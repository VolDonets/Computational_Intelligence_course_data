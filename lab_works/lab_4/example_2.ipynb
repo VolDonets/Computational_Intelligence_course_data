{
 "cells": [
  {
   "metadata": {},
   "cell_type": "markdown",
   "source": [
    "# Example 2 of using Ant Colony Algorithm\n",
    "[Medium Article to this example](https://medium.com/@hasnain.roopawalla/ant-colony-optimization-1bbc346c2da5)"
   ],
   "id": "d4463add04cac765"
  },
  {
   "metadata": {
    "ExecuteTime": {
     "end_time": "2025-04-24T09:56:09.123947Z",
     "start_time": "2025-04-24T09:56:06.964545Z"
    }
   },
   "cell_type": "code",
   "source": [
    "!pip install aco_routing\n",
    "!pip install networkx"
   ],
   "id": "25512753f1a06bb2",
   "outputs": [
    {
     "name": "stdout",
     "output_type": "stream",
     "text": [
      "Collecting aco_routing\n",
      "  Downloading aco_routing-1.1.1-py3-none-any.whl.metadata (4.1 kB)\n",
      "Downloading aco_routing-1.1.1-py3-none-any.whl (8.5 kB)\n",
      "Installing collected packages: aco_routing\n",
      "Successfully installed aco_routing-1.1.1\n"
     ]
    },
    {
     "name": "stderr",
     "output_type": "stream",
     "text": [
      "\n",
      "[notice] A new release of pip is available: 24.3.1 -> 25.0.1\n",
      "[notice] To update, run: python.exe -m pip install --upgrade pip\n"
     ]
    }
   ],
   "execution_count": 1
  },
  {
   "metadata": {
    "ExecuteTime": {
     "end_time": "2025-04-24T09:59:44.875387Z",
     "start_time": "2025-04-24T09:59:44.870803Z"
    }
   },
   "cell_type": "code",
   "source": [
    "from aco_routing import ACO\n",
    "import networkx as nx"
   ],
   "id": "b79081a9c8ccdb97",
   "outputs": [],
   "execution_count": 8
  },
  {
   "metadata": {
    "ExecuteTime": {
     "end_time": "2025-04-24T10:02:20.745819Z",
     "start_time": "2025-04-24T10:02:20.740876Z"
    }
   },
   "cell_type": "code",
   "source": [
    "G = nx.DiGraph()\n",
    "\n",
    "G.add_edge(\"A\", \"B\", cost=2)\n",
    "G.add_edge(\"B\", \"C\", cost=2)\n",
    "G.add_edge(\"A\", \"H\", cost=2)\n",
    "G.add_edge(\"H\", \"G\", cost=2)\n",
    "G.add_edge(\"C\", \"F\", cost=1)\n",
    "G.add_edge(\"F\", \"G\", cost=1)\n",
    "G.add_edge(\"G\", \"F\", cost=1)\n",
    "G.add_edge(\"F\", \"C\", cost=1)\n",
    "G.add_edge(\"C\", \"D\", cost=10)\n",
    "G.add_edge(\"E\", \"D\", cost=2)\n",
    "G.add_edge(\"G\", \"E\", cost=2)"
   ],
   "id": "6683e34cb45bf9f6",
   "outputs": [],
   "execution_count": 22
  },
  {
   "metadata": {
    "ExecuteTime": {
     "end_time": "2025-04-24T10:02:46.506556Z",
     "start_time": "2025-04-24T10:02:44.195535Z"
    }
   },
   "cell_type": "code",
   "source": [
    "aco = ACO(G, ant_max_steps=100, num_iterations=1000, ant_random_spawn=True)\n",
    "\n",
    "aco_path, aco_cost = aco.find_shortest_path(\n",
    "    source=\"A\",\n",
    "    destination=\"D\",\n",
    "    num_ants=100,\n",
    ")"
   ],
   "id": "d0c868c46146de3e",
   "outputs": [],
   "execution_count": 26
  },
  {
   "metadata": {
    "ExecuteTime": {
     "end_time": "2025-04-24T10:02:47.135040Z",
     "start_time": "2025-04-24T10:02:47.130240Z"
    }
   },
   "cell_type": "code",
   "source": "aco_path",
   "id": "ff29e21446989c8f",
   "outputs": [
    {
     "data": {
      "text/plain": [
       "['A', 'B', 'C', 'F', 'G', 'E', 'D']"
      ]
     },
     "execution_count": 27,
     "metadata": {},
     "output_type": "execute_result"
    }
   ],
   "execution_count": 27
  },
  {
   "metadata": {
    "ExecuteTime": {
     "end_time": "2025-04-24T10:02:48.257565Z",
     "start_time": "2025-04-24T10:02:48.252965Z"
    }
   },
   "cell_type": "code",
   "source": "aco_cost",
   "id": "e34d89477b7e8ca5",
   "outputs": [
    {
     "data": {
      "text/plain": [
       "10.0"
      ]
     },
     "execution_count": 28,
     "metadata": {},
     "output_type": "execute_result"
    }
   ],
   "execution_count": 28
  },
  {
   "metadata": {},
   "cell_type": "code",
   "outputs": [],
   "execution_count": null,
   "source": "",
   "id": "2273114d009141a"
  },
  {
   "metadata": {},
   "cell_type": "code",
   "outputs": [],
   "execution_count": null,
   "source": "",
   "id": "488a4e5b1fa78c10"
  },
  {
   "metadata": {},
   "cell_type": "code",
   "outputs": [],
   "execution_count": null,
   "source": "",
   "id": "fd5efc43869eeb79"
  }
 ],
 "metadata": {
  "kernelspec": {
   "display_name": "Python 3",
   "language": "python",
   "name": "python3"
  },
  "language_info": {
   "codemirror_mode": {
    "name": "ipython",
    "version": 2
   },
   "file_extension": ".py",
   "mimetype": "text/x-python",
   "name": "python",
   "nbconvert_exporter": "python",
   "pygments_lexer": "ipython2",
   "version": "2.7.6"
  }
 },
 "nbformat": 4,
 "nbformat_minor": 5
}
